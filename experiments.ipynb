{
 "cells": [
  {
   "cell_type": "code",
   "execution_count": 3,
   "metadata": {},
   "outputs": [],
   "source": [
    "from pipeline import Pipeline, load_data\n",
    "from langchain_openai import ChatOpenAI\n",
    "import logging\n",
    "from demonstration_formatter import (\n",
    "    Demonstration,\n",
    "    DemonstrationFormatter,\n",
    "    EmojisDemonstrations,\n",
    "    ShapeExtractionWrapper,\n",
    "    DifferenceWrapper,\n",
    ")\n",
    "from solver import COTSolver\n",
    "import numpy as np\n",
    "from evaluate import evaluate\n",
    "from matplotlib import pyplot as plt"
   ]
  },
  {
   "cell_type": "code",
   "execution_count": 4,
   "metadata": {},
   "outputs": [
    {
     "ename": "",
     "evalue": "",
     "output_type": "error",
     "traceback": [
      "\u001b[1;31mThe Kernel crashed while executing code in the current cell or a previous cell. \n",
      "\u001b[1;31mPlease review the code in the cell(s) to identify a possible cause of the failure. \n",
      "\u001b[1;31mClick <a href='https://aka.ms/vscodeJupyterKernelCrash'>here</a> for more info. \n",
      "\u001b[1;31mView Jupyter <a href='command:jupyter.viewOutput'>log</a> for further details."
     ]
    }
   ],
   "source": [
    "x_axis = list(range(2, 9))\n",
    "\n",
    "costs = []\n",
    "accuracies = []\n",
    "for num_examples in x_axis:\n",
    "    model = ChatOpenAI(model=\"gpt-4o-mini\")\n",
    "    formatter = EmojisDemonstrations()\n",
    "    solver = COTSolver(model, formatter=formatter, num_examples=num_examples, num_solutions=32)\n",
    "    pipeline = Pipeline(demonstration_formatter=formatter, solver=solver)\n",
    "    accuracy, avg_cost = evaluate(pipeline, n=20)\n",
    "    costs.append(avg_cost)\n",
    "    accuracies.append(accuracy)\n",
    "\n"
   ]
  },
  {
   "cell_type": "code",
   "execution_count": null,
   "metadata": {},
   "outputs": [],
   "source": [
    "# Make a plot side by side of the accuracies and costs\n",
    "plt.figure(figsize=(12, 6))\n",
    "plt.subplot(1, 2, 1)\n",
    "plt.plot(x_axis, costs, label=\"Cost\")\n",
    "plt.xlabel(\"Number of Examples\")\n",
    "plt.ylabel(\"Average Cost\")\n",
    "plt.title(\"Average Cost vs Number of Examples\")\n",
    "plt.legend()"
   ]
  },
  {
   "cell_type": "code",
   "execution_count": null,
   "metadata": {},
   "outputs": [],
   "source": [
    "x_axis = [2^i for i in range(4, 9)]\n",
    "\n",
    "costs = []\n",
    "accuracies = []\n",
    "for k in x_axis:\n",
    "    model = ChatOpenAI(model=\"gpt-4o-mini\")\n",
    "    formatter = EmojisDemonstrations()\n",
    "    solver = COTSolver(model, formatter=formatter)\n",
    "    pipeline = Pipeline(demonstration_formatter=formatter, solver=solver)\n",
    "    accuracy, avg_cost = evaluate(pipeline)\n",
    "    costs.append(avg_cost)\n",
    "    accuracies.append(accuracy)\n",
    "\n"
   ]
  }
 ],
 "metadata": {
  "kernelspec": {
   "display_name": "venv",
   "language": "python",
   "name": "python3"
  },
  "language_info": {
   "codemirror_mode": {
    "name": "ipython",
    "version": 3
   },
   "file_extension": ".py",
   "mimetype": "text/x-python",
   "name": "python",
   "nbconvert_exporter": "python",
   "pygments_lexer": "ipython3",
   "version": "3.12.6"
  }
 },
 "nbformat": 4,
 "nbformat_minor": 2
}
