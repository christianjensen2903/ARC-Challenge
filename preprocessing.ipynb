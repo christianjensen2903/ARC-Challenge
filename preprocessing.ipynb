{
 "cells": [
  {
   "cell_type": "code",
   "execution_count": 2,
   "metadata": {},
   "outputs": [],
   "source": [
    "import json\n",
    "import os\n",
    "\n",
    "with open('data/arc-agi_training_challenges.json') as f:\n",
    "    challenges = json.load(f)\n",
    "\n",
    "with open('data/arc-agi_training_solutions.json') as f:\n",
    "    solutions = json.load(f)"
   ]
  },
  {
   "cell_type": "code",
   "execution_count": 3,
   "metadata": {},
   "outputs": [
    {
     "data": {
      "image/png": "[encoded data removed]",
      "text/plain": [
       "<Figure size 400x600 with 6 Axes>"
      ]
     },
     "metadata": {},
     "output_type": "display_data"
    }
   ],
   "source": [
    "from matplotlib import pyplot as plt\n",
    "import preprocessing\n",
    "import numpy as np\n",
    "\n",
    "# Function to visualize grid with color scheme\n",
    "def visualize_grids_with_colors(grids: list[dict[str, list[list[int]]]]):\n",
    "    n_grids = len(grids)\n",
    "    fig, axes = plt.subplots(n_grids, 2, figsize=(4, n_grids * 2))\n",
    "    \n",
    "    if n_grids == 1:\n",
    "        axes = [axes]\n",
    "    \n",
    "    for i, grid in enumerate(grids):\n",
    "        input_grid = np.array(grid['input'])\n",
    "        output_grid = np.array(grid['output'])\n",
    "        \n",
    "        # Replace input and output grids with color values\n",
    "        reduced_input_grid = preprocessing.reduce_colors(input_grid)\n",
    "        input_grid_colored = preprocessing.replace_with_colors(reduced_input_grid)\n",
    "        reduced_output_grid = preprocessing.reduce_colors(output_grid)\n",
    "        output_grid_colored = preprocessing.replace_with_colors(reduced_output_grid)\n",
    "        \n",
    "        # Plot input grid\n",
    "        axes[i][0].imshow(input_grid_colored, interpolation='nearest')\n",
    "        axes[i][0].set_title('Input Grid')\n",
    "        axes[i][0].axis('on')\n",
    "        axes[i][0].grid(True, which='both', color='gray', linestyle='-', linewidth=0.5)\n",
    "        axes[i][0].set_xticks(np.arange(-0.55, input_grid.shape[1], 1))\n",
    "        axes[i][0].set_yticks(np.arange(-0.5, input_grid.shape[0], 1))\n",
    "        axes[i][0].set_xticklabels([])\n",
    "        axes[i][0].set_yticklabels([])\n",
    "        \n",
    "        # Plot output grid\n",
    "        axes[i][1].imshow(output_grid_colored, interpolation='nearest')\n",
    "        axes[i][1].set_title('Output Grid')\n",
    "        axes[i][1].axis('on')\n",
    "        axes[i][1].grid(True, which='both', color='gray', linestyle='-', linewidth=0.5)\n",
    "        axes[i][1].set_xticks(np.arange(-0.55, output_grid.shape[1], 1))\n",
    "        axes[i][1].set_yticks(np.arange(-0.5, output_grid.shape[0], 1))\n",
    "        axes[i][1].set_xticklabels([])\n",
    "        axes[i][1].set_yticklabels([])\n",
    "    \n",
    "    plt.tight_layout()\n",
    "    plt.show()\n",
    "\n",
    "# Example usage with colored grids\n",
    "visualize_grids_with_colors(challenges[\"e40b9e2f\"]['train'])"
   ]
  },
  {
   "cell_type": "code",
   "execution_count": 4,
   "metadata": {},
   "outputs": [
    {
     "data": {
      "image/png": "[encoded data removed]",
      "text/plain": [
       "<Figure size 200x200 with 1 Axes>"
      ]
     },
     "metadata": {},
     "output_type": "display_data"
    }
   ],
   "source": [
    "grid = np.array(challenges[\"e40b9e2f\"]['train'][0]['input'])\n",
    "grid = preprocessing.reduce_colors(grid)\n",
    "colored_grid = preprocessing.replace_with_colors(grid)\n",
    "# Visualize the grid\n",
    "plt.figure(figsize=(2, 2))\n",
    "plt.imshow(colored_grid)\n",
    "plt.axis('off')\n",
    "plt.show()"
   ]
  },
  {
   "cell_type": "code",
   "execution_count": 5,
   "metadata": {},
   "outputs": [
    {
     "name": "stdout",
     "output_type": "stream",
     "text": [
      " | | | | | | | | | \n",
      " | | | | | | | | | \n",
      " | | | | | | | | | \n",
      " | | | |G| | | | | \n",
      " | | |R|G|R| | | | \n",
      " | | |G|R|G| | | | \n",
      " | | |R|G|R| | | | \n",
      " | | | | | |R| | | \n",
      " | | | | | | | | | \n",
      " | | | | | | | | | \n",
      "\n"
     ]
    }
   ],
   "source": [
    "print(preprocessing.grid_to_ascii(grid))"
   ]
  },
  {
   "cell_type": "code",
   "execution_count": 6,
   "metadata": {},
   "outputs": [
    {
     "name": "stdout",
     "output_type": "stream",
     "text": [
      " |G| | \n",
      "R|G|R| \n",
      "G|R|G| \n",
      "R|G|R| \n",
      " | | |R\n",
      "\n"
     ]
    }
   ],
   "source": [
    "shapes = preprocessing.find_contiguous_shapes(grid)\n",
    "for shape in shapes:\n",
    "    print(preprocessing.grid_to_ascii(shape))"
   ]
  }
 ],
 "metadata": {
  "kernelspec": {
   "display_name": "venv",
   "language": "python",
   "name": "python3"
  },
  "language_info": {
   "codemirror_mode": {
    "name": "ipython",
    "version": 3
   },
   "file_extension": ".py",
   "mimetype": "text/x-python",
   "name": "python",
   "nbconvert_exporter": "python",
   "pygments_lexer": "ipython3",
   "version": "3.12.6"
  }
 },
 "nbformat": 4,
 "nbformat_minor": 2
}
